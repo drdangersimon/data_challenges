{
 "cells": [
  {
   "cell_type": "code",
   "execution_count": 2,
   "metadata": {},
   "outputs": [],
   "source": [
    "import pandas as pd\n",
    "import geopandas as gpd\n",
    "\n",
    "import seaborn as sns\n",
    "import pylab as plt\n",
    "import folium\n",
    "import pysal as ps\n",
    "from crime_tool import load_datasets\n",
    "\n",
    "%matplotlib inline"
   ]
  },
  {
   "cell_type": "code",
   "execution_count": 3,
   "metadata": {
    "scrolled": true
   },
   "outputs": [
    {
     "data": {
      "text/html": [
       "<div>\n",
       "<style scoped>\n",
       "    .dataframe tbody tr th:only-of-type {\n",
       "        vertical-align: middle;\n",
       "    }\n",
       "\n",
       "    .dataframe tbody tr th {\n",
       "        vertical-align: top;\n",
       "    }\n",
       "\n",
       "    .dataframe thead th {\n",
       "        text-align: right;\n",
       "    }\n",
       "</style>\n",
       "<table border=\"1\" class=\"dataframe\">\n",
       "  <thead>\n",
       "    <tr style=\"text-align: right;\">\n",
       "      <th></th>\n",
       "      <th>small_area</th>\n",
       "      <th>precinct</th>\n",
       "      <th>a70_79</th>\n",
       "      <th>a40_49</th>\n",
       "      <th>a30_39</th>\n",
       "      <th>a10_19</th>\n",
       "      <th>a80_plus</th>\n",
       "      <th>a0_9</th>\n",
       "      <th>a60_69</th>\n",
       "      <th>a50_59</th>\n",
       "      <th>a20_29</th>\n",
       "      <th>geometry</th>\n",
       "      <th>Province</th>\n",
       "      <th>Crime</th>\n",
       "      <th>Year</th>\n",
       "      <th>total_crime</th>\n",
       "    </tr>\n",
       "  </thead>\n",
       "  <tbody>\n",
       "    <tr>\n",
       "      <th>0</th>\n",
       "      <td>1600049</td>\n",
       "      <td>vanrhynsdorp</td>\n",
       "      <td>18.0</td>\n",
       "      <td>114.0</td>\n",
       "      <td>72.0</td>\n",
       "      <td>84.0</td>\n",
       "      <td>3.0</td>\n",
       "      <td>120.0</td>\n",
       "      <td>36.0</td>\n",
       "      <td>75.0</td>\n",
       "      <td>135.0</td>\n",
       "      <td>POLYGON ((18.9239346 -31.56851169, 18.9241632 ...</td>\n",
       "      <td>western cape</td>\n",
       "      <td>Driving under the influence of alcohol or drugs</td>\n",
       "      <td>2005</td>\n",
       "      <td>0.770022</td>\n",
       "    </tr>\n",
       "    <tr>\n",
       "      <th>1</th>\n",
       "      <td>1600049</td>\n",
       "      <td>vanrhynsdorp</td>\n",
       "      <td>18.0</td>\n",
       "      <td>114.0</td>\n",
       "      <td>72.0</td>\n",
       "      <td>84.0</td>\n",
       "      <td>3.0</td>\n",
       "      <td>120.0</td>\n",
       "      <td>36.0</td>\n",
       "      <td>75.0</td>\n",
       "      <td>135.0</td>\n",
       "      <td>POLYGON ((18.9239346 -31.56851169, 18.9241632 ...</td>\n",
       "      <td>western cape</td>\n",
       "      <td>Driving under the influence of alcohol or drugs</td>\n",
       "      <td>2006</td>\n",
       "      <td>0.684464</td>\n",
       "    </tr>\n",
       "    <tr>\n",
       "      <th>2</th>\n",
       "      <td>1600049</td>\n",
       "      <td>vanrhynsdorp</td>\n",
       "      <td>18.0</td>\n",
       "      <td>114.0</td>\n",
       "      <td>72.0</td>\n",
       "      <td>84.0</td>\n",
       "      <td>3.0</td>\n",
       "      <td>120.0</td>\n",
       "      <td>36.0</td>\n",
       "      <td>75.0</td>\n",
       "      <td>135.0</td>\n",
       "      <td>POLYGON ((18.9239346 -31.56851169, 18.9241632 ...</td>\n",
       "      <td>western cape</td>\n",
       "      <td>Driving under the influence of alcohol or drugs</td>\n",
       "      <td>2007</td>\n",
       "      <td>0.770022</td>\n",
       "    </tr>\n",
       "    <tr>\n",
       "      <th>3</th>\n",
       "      <td>1600049</td>\n",
       "      <td>vanrhynsdorp</td>\n",
       "      <td>18.0</td>\n",
       "      <td>114.0</td>\n",
       "      <td>72.0</td>\n",
       "      <td>84.0</td>\n",
       "      <td>3.0</td>\n",
       "      <td>120.0</td>\n",
       "      <td>36.0</td>\n",
       "      <td>75.0</td>\n",
       "      <td>135.0</td>\n",
       "      <td>POLYGON ((18.9239346 -31.56851169, 18.9241632 ...</td>\n",
       "      <td>western cape</td>\n",
       "      <td>Driving under the influence of alcohol or drugs</td>\n",
       "      <td>2008</td>\n",
       "      <td>0.770022</td>\n",
       "    </tr>\n",
       "    <tr>\n",
       "      <th>4</th>\n",
       "      <td>1600049</td>\n",
       "      <td>vanrhynsdorp</td>\n",
       "      <td>18.0</td>\n",
       "      <td>114.0</td>\n",
       "      <td>72.0</td>\n",
       "      <td>84.0</td>\n",
       "      <td>3.0</td>\n",
       "      <td>120.0</td>\n",
       "      <td>36.0</td>\n",
       "      <td>75.0</td>\n",
       "      <td>135.0</td>\n",
       "      <td>POLYGON ((18.9239346 -31.56851169, 18.9241632 ...</td>\n",
       "      <td>western cape</td>\n",
       "      <td>Driving under the influence of alcohol or drugs</td>\n",
       "      <td>2009</td>\n",
       "      <td>1.026696</td>\n",
       "    </tr>\n",
       "  </tbody>\n",
       "</table>\n",
       "</div>"
      ],
      "text/plain": [
       "   small_area      precinct  a70_79  a40_49  a30_39  a10_19  a80_plus   a0_9  \\\n",
       "0     1600049  vanrhynsdorp    18.0   114.0    72.0    84.0       3.0  120.0   \n",
       "1     1600049  vanrhynsdorp    18.0   114.0    72.0    84.0       3.0  120.0   \n",
       "2     1600049  vanrhynsdorp    18.0   114.0    72.0    84.0       3.0  120.0   \n",
       "3     1600049  vanrhynsdorp    18.0   114.0    72.0    84.0       3.0  120.0   \n",
       "4     1600049  vanrhynsdorp    18.0   114.0    72.0    84.0       3.0  120.0   \n",
       "\n",
       "   a60_69  a50_59  a20_29                                           geometry  \\\n",
       "0    36.0    75.0   135.0  POLYGON ((18.9239346 -31.56851169, 18.9241632 ...   \n",
       "1    36.0    75.0   135.0  POLYGON ((18.9239346 -31.56851169, 18.9241632 ...   \n",
       "2    36.0    75.0   135.0  POLYGON ((18.9239346 -31.56851169, 18.9241632 ...   \n",
       "3    36.0    75.0   135.0  POLYGON ((18.9239346 -31.56851169, 18.9241632 ...   \n",
       "4    36.0    75.0   135.0  POLYGON ((18.9239346 -31.56851169, 18.9241632 ...   \n",
       "\n",
       "       Province                                            Crime  Year  \\\n",
       "0  western cape  Driving under the influence of alcohol or drugs  2005   \n",
       "1  western cape  Driving under the influence of alcohol or drugs  2006   \n",
       "2  western cape  Driving under the influence of alcohol or drugs  2007   \n",
       "3  western cape  Driving under the influence of alcohol or drugs  2008   \n",
       "4  western cape  Driving under the influence of alcohol or drugs  2009   \n",
       "\n",
       "   total_crime  \n",
       "0     0.770022  \n",
       "1     0.684464  \n",
       "2     0.770022  \n",
       "3     0.770022  \n",
       "4     1.026696  "
      ]
     },
     "execution_count": 3,
     "metadata": {},
     "output_type": "execute_result"
    }
   ],
   "source": [
    "# get cleaned data\n",
    "df = load_datasets.load_crime_stats(population_group='ages', \n",
    "                                    crime_list=['Drug-related crime','Driving under the influence of alcohol or drugs'],\n",
    "                                   provence='Western Cape')\n",
    "df.head()"
   ]
  },
  {
   "cell_type": "code",
   "execution_count": 5,
   "metadata": {},
   "outputs": [
    {
     "data": {
      "text/plain": [
       "array(['Driving under the influence of alcohol or drugs',\n",
       "       'Drug-related crime'], dtype=object)"
      ]
     },
     "execution_count": 5,
     "metadata": {},
     "output_type": "execute_result"
    }
   ],
   "source": [
    "df.Crime.unique()"
   ]
  },
  {
   "cell_type": "code",
   "execution_count": 6,
   "metadata": {},
   "outputs": [
    {
     "data": {
      "text/plain": [
       "<matplotlib.axes._subplots.AxesSubplot at 0x7fa2d14cd668>"
      ]
     },
     "execution_count": 6,
     "metadata": {},
     "output_type": "execute_result"
    },
    {
     "data": {
      "image/png": "[encoded data removed]",
      "text/plain": [
       "<Figure size 432x288 with 1 Axes>"
      ]
     },
     "metadata": {},
     "output_type": "display_data"
    }
   ],
   "source": [
    "df.query('Crime == \"Drug-related crime\"').plot(column='total_crime')"
   ]
  },
  {
   "cell_type": "code",
   "execution_count": null,
   "metadata": {},
   "outputs": [],
   "source": []
  }
 ],
 "metadata": {
  "kernelspec": {
   "display_name": "Python 3",
   "language": "python",
   "name": "python3"
  },
  "language_info": {
   "codemirror_mode": {
    "name": "ipython",
    "version": 3
   },
   "file_extension": ".py",
   "mimetype": "text/x-python",
   "name": "python",
   "nbconvert_exporter": "python",
   "pygments_lexer": "ipython3",
   "version": "3.7.0"
  }
 },
 "nbformat": 4,
 "nbformat_minor": 2
}
